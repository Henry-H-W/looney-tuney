{
  "cells": [
    {
      "cell_type": "code",
      "execution_count": null,
      "metadata": {
        "colab": {
          "base_uri": "https://localhost:8080/"
        },
        "collapsed": true,
        "id": "fR5f4j0gghwK",
        "outputId": "8cc3f319-373c-48a2-8df2-93f3613ff5b5"
      },
      "outputs": [],
      "source": [
        "# importing necessary libraries\n",
        "import numpy as np  # for numerical operations (arrays, matrices, etc.)\n",
        "import pandas as pd  # for handling structured data (e.g., CSV files, dataframes)\n",
        "import matplotlib.pyplot as plt  # for data visualization (graphs, charts)\n",
        "\n",
        "import os  # to handle file and directory operations\n",
        "import glob  # to find files matching a pattern (e.g., all MIDI files in a folder)\n",
        "import pickle  # to save and load serialized objects (like trained models or preprocessed data)\n",
        "import datetime # for output file specification\n",
        "\n",
        "# importing music21 - a python library for handling and analyzing music notation\n",
        "from music21 import converter, instrument, stream, note, chord\n",
        "from collections import Counter\n",
        "\n",
        "# importing deep learning tools from Keras\n",
        "from keras.models import Sequential  # for building sequential neural networks\n",
        "from keras.layers import Dense, Dropout, LSTM, Activation, Bidirectional, Flatten  # different types of layers\n",
        "from keras import utils  # utilities for handling labels, models, and training\n",
        "from keras.callbacks import ModelCheckpoint  # to save the best model during training\n",
        "from keras_self_attention import SeqSelfAttention  # self-attention mechanism for sequence models\n",
        "\n",
        "# note: ensure that you have `keras_self_attention` installed before using it.\n",
        "# you can install it using: !pip install keras-self-attention\n",
        "\n",
        "# running version 2.1.6 (assuming this is a specific requirement for compatibility)\n",
        "# check your installed version with:\n",
        "# import keras\n",
        "# print(keras.__version__)"
      ]
    },
    {
      "cell_type": "code",
      "execution_count": null,
      "metadata": {
        "id": "T0HR_5v1gp-d"
      },
      "outputs": [],
      "source": [
        "def train_network(notes, n_vocab):\n",
        "    \"\"\"\n",
        "    train a Neural Network to generate music based on a given sequence of notes\n",
        "\n",
        "    parameters:\n",
        "    notes (list): a list of musical notes and chords extracted from MIDI files\n",
        "    n_vocab (int): the number of unique notes/chords in the dataset (vocabulary size)\n",
        "\n",
        "    this function follows three main steps:\n",
        "    1. prepare the input sequences and corresponding output targets for the model\n",
        "    2. create the LSTM-based neural network architecture\n",
        "    3. train the model using the prepared sequences\n",
        "    \"\"\"\n",
        "\n",
        "    # step 1: convert the notes into a format that the neural network can understand\n",
        "    network_input, network_output = prepare_sequences(notes, n_vocab)\n",
        "\n",
        "    print(f\"Total training sequences generated: {len(network_input)}\")\n",
        "\n",
        "    # step 2: create the LSTM-based neural network model\n",
        "    model = create_network(network_input, n_vocab)\n",
        "\n",
        "    # step 3: train the model using the prepared input and output sequences\n",
        "    train(model, network_input, network_output)"
      ]
    },
    {
      "cell_type": "code",
      "execution_count": 3,
      "metadata": {
        "id": "CLqkbrKcgtGo"
      },
      "outputs": [],
      "source": [
        "def convert_duration(duration_value):\n",
        "    \"\"\" Converts duration to float, handling fractions like '1/3'. \"\"\"\n",
        "    try:\n",
        "        return float(duration_value)\n",
        "    except ValueError:\n",
        "        return float(Fraction(duration_value))  # Convert fraction (e.g., \"1/3\") to decimal"
      ]
    },
    {
      "cell_type": "code",
      "execution_count": 4,
      "metadata": {
        "id": "sljaG0cIgzIr"
      },
      "outputs": [],
      "source": [
        "def adjust_octave(pitch_name, shift=-1):\n",
        "    \"\"\" Adjusts the octave of a note to fix incorrect octave shifting. \"\"\"\n",
        "    if pitch_name[-1].isdigit():  # Ensure last character is an octave number\n",
        "        note_part = pitch_name[:-1]  # Get note name (e.g., 'B')\n",
        "        octave_part = int(pitch_name[-1])  # Get octave number\n",
        "        return f\"{note_part}{octave_part + shift}\"  # Apply shift\n",
        "    return pitch_name  # If no octave detected, return as is"
      ]
    },
    {
      "cell_type": "code",
      "execution_count": null,
      "metadata": {
        "id": "_YYsCuu7g1KM"
      },
      "outputs": [],
      "source": [
        "def get_notes():\n",
        "    \"\"\" Extracts all notes, chords, and rests from MIDI files. \"\"\"\n",
        "\n",
        "    # check if the \"data/notes\" file already exists to avoid unnecessary re-parsing\n",
        "    if os.path.exists('data/notes'):\n",
        "        print(\"skipping midi parsing - 'data/notes' already exists.\")\n",
        "        with open('data/notes', 'rb') as filepath:\n",
        "            notes = pickle.load(filepath)  # load previously parsed notes from the saved file\n",
        "        return notes  # return the existing notes data\n",
        "\n",
        "    notes = []  # Store cleaned notes, chords, and rests\n",
        "    last_offset = 0.0  # Keep track of the last note's offset\n",
        "\n",
        "    # locate all MIDI files in the dataset directory (if you have .midi files instead of .mid, edit the line below)\n",
        "    midi_files = glob.glob(\"dataset/*.mid\")\n",
        "    if not midi_files:\n",
        "        raise FileNotFoundError(\"No MIDI files found in 'dataset/' directory.\")\n",
        "\n",
        "    # iterate through all MIDI files in the dataset\n",
        "    for file in midi_files:\n",
        "        try:\n",
        "            midi = converter.parse(file)  # load MIDI file\n",
        "            print(f\"Parsing {file} ...\")\n",
        "\n",
        "            # try to extract instruments, otherwise flatten\n",
        "            try:\n",
        "                s2 = instrument.partitionByInstrument(midi)\n",
        "                notes_to_parse = s2.parts[0].recurse() if s2 else midi.flat.notes\n",
        "            except:\n",
        "                notes_to_parse = midi.flat.notes\n",
        "\n",
        "            # iterate through each musical element and store it (note, chord, or rest)\n",
        "            for element in notes_to_parse:\n",
        "                duration_value = convert_duration(element.quarterLength)  # ensure duration is a float\n",
        "                # possible experiment: work with time (seconds) instead of note durations for absolute precision\n",
        "\n",
        "                # only add rests if there is an actual gap (this was a problem for some reason)\n",
        "                if element.offset > last_offset:\n",
        "                    rest_duration = element.offset - last_offset\n",
        "                    if rest_duration >= 0.25: \n",
        "                        notes.append(f\"rest {rest_duration}\")\n",
        "\n",
        "                if isinstance(element, note.Note):  # 🎵 Single Note\n",
        "                    fixed_note = adjust_octave(element.nameWithOctave, shift=-1)\n",
        "                    notes.append(f\"{fixed_note} {duration_value}\")\n",
        "\n",
        "                elif isinstance(element, chord.Chord):  # 🎶 Chord\n",
        "                    chord_notes = \".\".join(adjust_octave(n.nameWithOctave, shift=-1) for n in element.pitches)\n",
        "                    notes.append(f\"{chord_notes} {duration_value}\")\n",
        "\n",
        "                # update last_offset to track the most recent note's position\n",
        "                last_offset = element.offset + duration_value\n",
        "\n",
        "        except Exception as e:\n",
        "            print(f\"Error processing {file}: {e}\")\n",
        "            continue  # continue processing other files\n",
        "\n",
        "    # apply hard cutoff: keep only the 15000 most common notes to avoid resource exhaustion errors\n",
        "    note_counts = Counter(notes)\n",
        "    most_common_notes = {note for note, _ in note_counts.most_common(15000)}\n",
        "\n",
        "    # remove rare notes entirely\n",
        "    filtered_notes = [note for note in notes if note in most_common_notes]\n",
        "\n",
        "    # save cleaned notes to a pickle file for future use\n",
        "    os.makedirs('data', exist_ok=True)\n",
        "    with open('data/notes', 'wb') as filepath:\n",
        "        pickle.dump(filtered_notes, filepath)\n",
        "\n",
        "    print(f\"Successfully extracted {len(filtered_notes)} elements from {len(midi_files)} MIDI files.\")\n",
        "    return filtered_notes"
      ]
    },
    {
      "cell_type": "code",
      "execution_count": 6,
      "metadata": {
        "id": "z5YTTbjrg8Ij"
      },
      "outputs": [],
      "source": [
        "def prepare_sequences(notes, n_vocab):\n",
        "    \"\"\" prepare the sequences used by the neural network \"\"\"\n",
        "\n",
        "    sequence_length = 100  # define the length of each input sequence\n",
        "\n",
        "    # get all unique pitch names (notes, chords, and rests) and sort them\n",
        "    pitchnames = sorted(set(item for item in notes))\n",
        "\n",
        "    # create a dictionary that maps each unique note/chord/rest to an integer\n",
        "    note_to_int = dict((note, number) for number, note in enumerate(pitchnames))\n",
        "\n",
        "    # initialize lists to store input sequences and corresponding target outputs\n",
        "    network_input = []\n",
        "    network_output = []\n",
        "\n",
        "    # create input sequences and their corresponding output notes\n",
        "    for i in range(0, len(notes) - sequence_length, 1):\n",
        "        sequence_in = notes[i:i + sequence_length]  # take a sequence of 100 notes as input\n",
        "        sequence_out = notes[i + sequence_length]  # the next note after the sequence is the target output\n",
        "\n",
        "        # convert notes in the sequence to their corresponding integer values\n",
        "        network_input.append([note_to_int[char] for char in sequence_in])\n",
        "        # convert the target output note to its integer representation\n",
        "        network_output.append(note_to_int[sequence_out])\n",
        "\n",
        "    n_patterns = len(network_input)  # number of training samples (patterns)\n",
        "\n",
        "    # reshape the input into a 3D format required for lstm layers: (samples, time steps, features)\n",
        "    network_input = np.reshape(network_input, (n_patterns, sequence_length, 1))\n",
        "\n",
        "    # normalize the input values to a range of 0 to 1 (helps lstm training)\n",
        "    network_input = network_input / float(n_vocab)\n",
        "\n",
        "    # convert the output values into a one-hot encoded format\n",
        "    network_output = utils.to_categorical(network_output)\n",
        "\n",
        "    return (network_input, network_output)  # return the processed input and output sequences"
      ]
    },
    {
      "cell_type": "code",
      "execution_count": 7,
      "metadata": {
        "id": "syVMtLVKhC0E"
      },
      "outputs": [],
      "source": [
        "def create_network(network_input, n_vocab):\n",
        "    \"\"\" create the structure of the neural network \"\"\"\n",
        "\n",
        "    model = Sequential()  # initialize a sequential model (a linear stack of layers)\n",
        "\n",
        "    # add a bidirectional lstm layer with 512 units\n",
        "    model.add(Bidirectional(LSTM(512,\n",
        "        input_shape=(network_input.shape[1], network_input.shape[2]),  # shape: (time steps, features)\n",
        "        return_sequences=True)))  # return sequences to allow stacking more lstm layers\n",
        "\n",
        "    # add a self-attention layer to help the model focus on important time steps in the sequence\n",
        "    model.add(SeqSelfAttention(attention_activation='sigmoid'))\n",
        "\n",
        "    # add dropout to prevent overfitting (randomly deactivates 30% of neurons)\n",
        "    model.add(Dropout(0.3))\n",
        "\n",
        "    # add another lstm layer with 512 units, still returning sequences\n",
        "    model.add(LSTM(512, return_sequences=True))\n",
        "\n",
        "    # add another dropout layer to further reduce overfitting risk\n",
        "    model.add(Dropout(0.3))\n",
        "\n",
        "    # flatten the output before passing it to dense layers (reshapes it into a 1d vector)\n",
        "    model.add(Flatten())  # ensures compatibility with the dense output layer\n",
        "\n",
        "    # add a dense output layer with 'n_vocab' neurons (one per unique note/chord)\n",
        "    model.add(Dense(n_vocab))\n",
        "\n",
        "    # apply softmax activation to convert outputs into probabilities (multi-class classification)\n",
        "    model.add(Activation('softmax'))\n",
        "\n",
        "    # compile the model using categorical cross-entropy loss and rmsprop optimizer\n",
        "    model.compile(loss='categorical_crossentropy', optimizer='rmsprop')\n",
        "    # (maybe experiment with different optimizers?)\n",
        "\n",
        "    return model  # return the compiled model"
      ]
    },
    {
      "cell_type": "code",
      "execution_count": 8,
      "metadata": {
        "id": "20s__pi2hSyc"
      },
      "outputs": [],
      "source": [
        "def train(model, network_input, network_output):\n",
        "    \"\"\" train the neural network \"\"\"\n",
        "\n",
        "    # let's set up a model checkpoint system that saves the model weights after every 5 epochs of training!\n",
        "    batch_size = 64\n",
        "    steps_per_epoch = len(network_input) // batch_size\n",
        "    save_freq = steps_per_epoch * 5\n",
        "\n",
        "    # Use the custom callback\n",
        "    filepath = os.path.abspath(\"weights-epoch{epoch:03d}-{loss:.4f}.keras\")\n",
        "    checkpoint = ModelCheckpoint(\n",
        "        filepath,\n",
        "        save_freq=save_freq, #Every 10 epochs\n",
        "        monitor='loss',\n",
        "        verbose=1,\n",
        "        save_best_only=False,\n",
        "        mode='min'\n",
        "    )\n",
        "\n",
        "    # Then pass the callback to model.fit()\n",
        "    model.fit(network_input, network_output,\n",
        "              epochs=30,\n",
        "              batch_size=64,\n",
        "              callbacks=[checkpoint]\n",
        "    )"
      ]
    },
    {
      "cell_type": "code",
      "execution_count": null,
      "metadata": {
        "colab": {
          "base_uri": "https://localhost:8080/"
        },
        "collapsed": true,
        "id": "bvBafgc0hViI",
        "outputId": "f67ab0b0-ddbe-4bf9-f180-3935b7f84f34"
      },
      "outputs": [],
      "source": [
        "# load all musical notes, chords, and rests from midi files\n",
        "notes = get_notes()\n",
        "\n",
        "# get the total number of unique pitch names (distinct notes, chords, and rests)\n",
        "n_vocab = len(set(notes))  # converts list to set to remove duplicates, then gets its length\n",
        "\n",
        "print(f\"Vocabulary size (n_vocab): {n_vocab}\")"
      ]
    },
    {
      "cell_type": "code",
      "execution_count": null,
      "metadata": {
        "colab": {
          "base_uri": "https://localhost:8080/"
        },
        "collapsed": true,
        "id": "ykjLtWVYhYKQ",
        "outputId": "4281274d-d39e-4cec-fc9c-a4ac53ff401a"
      },
      "outputs": [],
      "source": [
        "# train the model using the extracted notes and the vocabulary size\n",
        "# note: before running the model, make sure you have access to a GPU!\n",
        "train_network(notes, n_vocab) # comment if you already have a weights file you want to use"
      ]
    }
  ],
  "metadata": {
    "accelerator": "GPU",
    "colab": {
      "gpuType": "T4",
      "provenance": []
    },
    "kernelspec": {
      "display_name": "Python 3",
      "name": "python3"
    },
    "language_info": {
      "name": "python",
      "version": "3.12.2"
    }
  },
  "nbformat": 4,
  "nbformat_minor": 0
}
